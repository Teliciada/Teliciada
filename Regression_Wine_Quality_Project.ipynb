{
  "nbformat": 4,
  "nbformat_minor": 0,
  "metadata": {
    "colab": {
      "provenance": [],
      "include_colab_link": true
    },
    "kernelspec": {
      "name": "python3",
      "display_name": "Python 3"
    },
    "language_info": {
      "name": "python"
    }
  },
  "cells": [
    {
      "cell_type": "markdown",
      "metadata": {
        "id": "view-in-github",
        "colab_type": "text"
      },
      "source": [
        "<a href=\"https://colab.research.google.com/github/Teliciada/Teliciada/blob/main/Regression_Wine_Quality_Project.ipynb\" target=\"_parent\"><img src=\"https://colab.research.google.com/assets/colab-badge.svg\" alt=\"Open In Colab\"/></a>"
      ]
    },
    {
      "cell_type": "markdown",
      "source": [
        "#Creating the dataset"
      ],
      "metadata": {
        "id": "ZhmKUyBW_Xzx"
      }
    },
    {
      "cell_type": "code",
      "source": [
        "## Use this for consistency in graphs through out the notebook\n",
        "import numpy as np\n",
        "import pandas as pd\n",
        "\n",
        "# to make this notebook's output stable across runs\n",
        "np.random.seed(123)\n",
        "\n",
        "# To plot pretty figures\n",
        "%matplotlib inline\n",
        "import matplotlib\n",
        "import matplotlib.pyplot as plt\n",
        "plt.rcParams['axes.labelsize'] = 14\n",
        "plt.rcParams['xtick.labelsize'] = 12\n",
        "plt.rcParams['ytick.labelsize'] = 12"
      ],
      "metadata": {
        "id": "YFwJ8T1z_ZZH"
      },
      "execution_count": null,
      "outputs": []
    },
    {
      "cell_type": "code",
      "source": [
        "df_red  = pd.read_csv(\"https://archive.ics.uci.edu/ml/machine-learning-databases/wine-quality/winequality-red.csv\", sep=';')\n",
        "df_white  = pd.read_csv(\"https://archive.ics.uci.edu/ml/machine-learning-databases/wine-quality/winequality-white.csv\", sep=';')\n",
        "\n",
        "df_red['red'] = 1\n",
        "df_red['white'] = 0\n",
        "df_white['red'] = 0\n",
        "df_white['white'] = 1\n",
        "df = df_red.append(df_white)\n",
        "\n",
        "dep_var = ['quality']\n",
        "\n",
        "\n",
        "discrete_vars = ['free sulfur dioxide', 'total sulfur dioxide', 'red', 'white']\n",
        "\n",
        "\n",
        "continuous_vars = list(df)\n",
        "continuous_vars.remove('quality')\n",
        "continuous_vars.remove('free sulfur dioxide')\n",
        "continuous_vars.remove('total sulfur dioxide')\n",
        "continuous_vars.remove('red')\n",
        "continuous_vars.remove('white')\n",
        "continuous_vars"
      ],
      "metadata": {
        "id": "CUjgNVgNyNKs",
        "colab": {
          "base_uri": "https://localhost:8080/"
        },
        "outputId": "d18b3aab-ed02-4456-90d9-a908061068a7"
      },
      "execution_count": null,
      "outputs": [
        {
          "output_type": "execute_result",
          "data": {
            "text/plain": [
              "['fixed acidity',\n",
              " 'volatile acidity',\n",
              " 'citric acid',\n",
              " 'residual sugar',\n",
              " 'chlorides',\n",
              " 'density',\n",
              " 'pH',\n",
              " 'sulphates',\n",
              " 'alcohol']"
            ]
          },
          "metadata": {},
          "execution_count": 2
        }
      ]
    },
    {
      "cell_type": "code",
      "source": [
        "import scipy\n",
        "from sklearn.compose import ColumnTransformer\n",
        "from sklearn.pipeline import Pipeline\n",
        "from sklearn.impute import SimpleImputer\n",
        "from sklearn.preprocessing import StandardScaler\n",
        "from sklearn.preprocessing import MinMaxScaler\n",
        "from sklearn.preprocessing import OneHotEncoder\n",
        "from sklearn.preprocessing import FunctionTransformer\n",
        "from sklearn.model_selection import train_test_split\n",
        "from sklearn.model_selection import StratifiedShuffleSplit\n",
        "from sklearn.linear_model import LinearRegression"
      ],
      "metadata": {
        "id": "U1zz81ZH4qrH"
      },
      "execution_count": null,
      "outputs": []
    },
    {
      "cell_type": "code",
      "source": [
        "# Numerical - impute, scale\n",
        "num_si_step = ('si', SimpleImputer(strategy='median'))\n",
        "num_scl_step = ('scl', MinMaxScaler())\n",
        "num_steps = [num_si_step, num_scl_step]\n",
        "num_pipe = Pipeline(num_steps)\n",
        "num_transformers = [('num', num_pipe, discrete_vars + continuous_vars)]\n"
      ],
      "metadata": {
        "id": "Up5RdsuX-WGf"
      },
      "execution_count": null,
      "outputs": []
    },
    {
      "cell_type": "code",
      "source": [
        "ct = ColumnTransformer(transformers=num_transformers)\n",
        "ct.fit(df[discrete_vars + continuous_vars])\n",
        "X = ct.transform(df[discrete_vars + continuous_vars])\n",
        "y = df[dep_var].values"
      ],
      "metadata": {
        "id": "oWYvnKwK-fz1"
      },
      "execution_count": null,
      "outputs": []
    },
    {
      "cell_type": "code",
      "source": [
        "#Pandas DataFrame version just used for testing\n",
        "y2 = df[dep_var]\n",
        "X2 = df[discrete_vars + continuous_vars]"
      ],
      "metadata": {
        "id": "7ZwglZVn9Vaz"
      },
      "execution_count": null,
      "outputs": []
    },
    {
      "cell_type": "code",
      "source": [
        "num_transformers"
      ],
      "metadata": {
        "colab": {
          "base_uri": "https://localhost:8080/"
        },
        "id": "TDU-ub2Jw7lW",
        "outputId": "cbbea1c4-271b-4bdb-abe5-8fff64ef13c8"
      },
      "execution_count": null,
      "outputs": [
        {
          "output_type": "execute_result",
          "data": {
            "text/plain": [
              "[('num', Pipeline(steps=[('si', SimpleImputer(strategy='median')),\n",
              "                  ('scl', MinMaxScaler())]), ['free sulfur dioxide',\n",
              "   'total sulfur dioxide',\n",
              "   'red',\n",
              "   'white',\n",
              "   'fixed acidity',\n",
              "   'volatile acidity',\n",
              "   'citric acid',\n",
              "   'residual sugar',\n",
              "   'chlorides',\n",
              "   'density',\n",
              "   'pH',\n",
              "   'sulphates',\n",
              "   'alcohol'])]"
            ]
          },
          "metadata": {},
          "execution_count": 7
        }
      ]
    },
    {
      "cell_type": "code",
      "source": [
        "X_train, X_test, y_train, y_test = train_test_split(X, y, test_size=0.2, random_state=10086)\n",
        "\n",
        "\n",
        "print(X_train.shape, X_test.shape, y_train.shape, y_test.shape)"
      ],
      "metadata": {
        "colab": {
          "base_uri": "https://localhost:8080/"
        },
        "id": "jE3ac7uQ8opU",
        "outputId": "e3bc2621-3118-46e4-eb34-49e4193378f8"
      },
      "execution_count": null,
      "outputs": [
        {
          "output_type": "stream",
          "name": "stdout",
          "text": [
            "(5197, 13) (1300, 13) (5197, 1) (1300, 1)\n"
          ]
        }
      ]
    },
    {
      "cell_type": "code",
      "source": [
        "print(type(X))\n",
        "print(type(X2))\n",
        "print(type(y))\n",
        "print(type(y2))"
      ],
      "metadata": {
        "id": "iJOtxeO19UZl",
        "colab": {
          "base_uri": "https://localhost:8080/"
        },
        "outputId": "8005a7a6-6f00-46aa-c8b1-c5402ddae912"
      },
      "execution_count": null,
      "outputs": [
        {
          "output_type": "stream",
          "name": "stdout",
          "text": [
            "<class 'numpy.ndarray'>\n",
            "<class 'pandas.core.frame.DataFrame'>\n",
            "<class 'numpy.ndarray'>\n",
            "<class 'pandas.core.frame.DataFrame'>\n"
          ]
        }
      ]
    },
    {
      "cell_type": "markdown",
      "source": [
        "#Exploring the data"
      ],
      "metadata": {
        "id": "SVaY1Ope_hG6"
      }
    },
    {
      "cell_type": "code",
      "source": [
        "df.info()"
      ],
      "metadata": {
        "colab": {
          "base_uri": "https://localhost:8080/"
        },
        "id": "lIdGBpPcyaR7",
        "outputId": "8adb64cc-07a4-41e6-baa2-5e9efa6d8791"
      },
      "execution_count": null,
      "outputs": [
        {
          "output_type": "stream",
          "name": "stdout",
          "text": [
            "<class 'pandas.core.frame.DataFrame'>\n",
            "Int64Index: 6497 entries, 0 to 4897\n",
            "Data columns (total 14 columns):\n",
            " #   Column                Non-Null Count  Dtype  \n",
            "---  ------                --------------  -----  \n",
            " 0   fixed acidity         6497 non-null   float64\n",
            " 1   volatile acidity      6497 non-null   float64\n",
            " 2   citric acid           6497 non-null   float64\n",
            " 3   residual sugar        6497 non-null   float64\n",
            " 4   chlorides             6497 non-null   float64\n",
            " 5   free sulfur dioxide   6497 non-null   float64\n",
            " 6   total sulfur dioxide  6497 non-null   float64\n",
            " 7   density               6497 non-null   float64\n",
            " 8   pH                    6497 non-null   float64\n",
            " 9   sulphates             6497 non-null   float64\n",
            " 10  alcohol               6497 non-null   float64\n",
            " 11  quality               6497 non-null   int64  \n",
            " 12  red                   6497 non-null   int64  \n",
            " 13  white                 6497 non-null   int64  \n",
            "dtypes: float64(11), int64(3)\n",
            "memory usage: 761.4 KB\n"
          ]
        }
      ]
    },
    {
      "cell_type": "code",
      "source": [
        "df.describe()"
      ],
      "metadata": {
        "colab": {
          "base_uri": "https://localhost:8080/",
          "height": 379
        },
        "id": "LbJJ5cGSzRgW",
        "outputId": "9628b8e9-cb81-4c06-f5aa-44fd5eabc169"
      },
      "execution_count": null,
      "outputs": [
        {
          "output_type": "execute_result",
          "data": {
            "text/plain": [
              "       fixed acidity  volatile acidity  citric acid  residual sugar  \\\n",
              "count    6497.000000       6497.000000  6497.000000     6497.000000   \n",
              "mean        7.215307          0.339666     0.318633        5.443235   \n",
              "std         1.296434          0.164636     0.145318        4.757804   \n",
              "min         3.800000          0.080000     0.000000        0.600000   \n",
              "25%         6.400000          0.230000     0.250000        1.800000   \n",
              "50%         7.000000          0.290000     0.310000        3.000000   \n",
              "75%         7.700000          0.400000     0.390000        8.100000   \n",
              "max        15.900000          1.580000     1.660000       65.800000   \n",
              "\n",
              "         chlorides  free sulfur dioxide  total sulfur dioxide      density  \\\n",
              "count  6497.000000          6497.000000           6497.000000  6497.000000   \n",
              "mean      0.056034            30.525319            115.744574     0.994697   \n",
              "std       0.035034            17.749400             56.521855     0.002999   \n",
              "min       0.009000             1.000000              6.000000     0.987110   \n",
              "25%       0.038000            17.000000             77.000000     0.992340   \n",
              "50%       0.047000            29.000000            118.000000     0.994890   \n",
              "75%       0.065000            41.000000            156.000000     0.996990   \n",
              "max       0.611000           289.000000            440.000000     1.038980   \n",
              "\n",
              "                pH    sulphates      alcohol      quality          red  \\\n",
              "count  6497.000000  6497.000000  6497.000000  6497.000000  6497.000000   \n",
              "mean      3.218501     0.531268    10.491801     5.818378     0.246114   \n",
              "std       0.160787     0.148806     1.192712     0.873255     0.430779   \n",
              "min       2.720000     0.220000     8.000000     3.000000     0.000000   \n",
              "25%       3.110000     0.430000     9.500000     5.000000     0.000000   \n",
              "50%       3.210000     0.510000    10.300000     6.000000     0.000000   \n",
              "75%       3.320000     0.600000    11.300000     6.000000     0.000000   \n",
              "max       4.010000     2.000000    14.900000     9.000000     1.000000   \n",
              "\n",
              "             white  \n",
              "count  6497.000000  \n",
              "mean      0.753886  \n",
              "std       0.430779  \n",
              "min       0.000000  \n",
              "25%       1.000000  \n",
              "50%       1.000000  \n",
              "75%       1.000000  \n",
              "max       1.000000  "
            ],
            "text/html": [
              "\n",
              "  <div id=\"df-2b3f179d-e385-4c08-ade3-b1ec2703e240\">\n",
              "    <div class=\"colab-df-container\">\n",
              "      <div>\n",
              "<style scoped>\n",
              "    .dataframe tbody tr th:only-of-type {\n",
              "        vertical-align: middle;\n",
              "    }\n",
              "\n",
              "    .dataframe tbody tr th {\n",
              "        vertical-align: top;\n",
              "    }\n",
              "\n",
              "    .dataframe thead th {\n",
              "        text-align: right;\n",
              "    }\n",
              "</style>\n",
              "<table border=\"1\" class=\"dataframe\">\n",
              "  <thead>\n",
              "    <tr style=\"text-align: right;\">\n",
              "      <th></th>\n",
              "      <th>fixed acidity</th>\n",
              "      <th>volatile acidity</th>\n",
              "      <th>citric acid</th>\n",
              "      <th>residual sugar</th>\n",
              "      <th>chlorides</th>\n",
              "      <th>free sulfur dioxide</th>\n",
              "      <th>total sulfur dioxide</th>\n",
              "      <th>density</th>\n",
              "      <th>pH</th>\n",
              "      <th>sulphates</th>\n",
              "      <th>alcohol</th>\n",
              "      <th>quality</th>\n",
              "      <th>red</th>\n",
              "      <th>white</th>\n",
              "    </tr>\n",
              "  </thead>\n",
              "  <tbody>\n",
              "    <tr>\n",
              "      <th>count</th>\n",
              "      <td>6497.000000</td>\n",
              "      <td>6497.000000</td>\n",
              "      <td>6497.000000</td>\n",
              "      <td>6497.000000</td>\n",
              "      <td>6497.000000</td>\n",
              "      <td>6497.000000</td>\n",
              "      <td>6497.000000</td>\n",
              "      <td>6497.000000</td>\n",
              "      <td>6497.000000</td>\n",
              "      <td>6497.000000</td>\n",
              "      <td>6497.000000</td>\n",
              "      <td>6497.000000</td>\n",
              "      <td>6497.000000</td>\n",
              "      <td>6497.000000</td>\n",
              "    </tr>\n",
              "    <tr>\n",
              "      <th>mean</th>\n",
              "      <td>7.215307</td>\n",
              "      <td>0.339666</td>\n",
              "      <td>0.318633</td>\n",
              "      <td>5.443235</td>\n",
              "      <td>0.056034</td>\n",
              "      <td>30.525319</td>\n",
              "      <td>115.744574</td>\n",
              "      <td>0.994697</td>\n",
              "      <td>3.218501</td>\n",
              "      <td>0.531268</td>\n",
              "      <td>10.491801</td>\n",
              "      <td>5.818378</td>\n",
              "      <td>0.246114</td>\n",
              "      <td>0.753886</td>\n",
              "    </tr>\n",
              "    <tr>\n",
              "      <th>std</th>\n",
              "      <td>1.296434</td>\n",
              "      <td>0.164636</td>\n",
              "      <td>0.145318</td>\n",
              "      <td>4.757804</td>\n",
              "      <td>0.035034</td>\n",
              "      <td>17.749400</td>\n",
              "      <td>56.521855</td>\n",
              "      <td>0.002999</td>\n",
              "      <td>0.160787</td>\n",
              "      <td>0.148806</td>\n",
              "      <td>1.192712</td>\n",
              "      <td>0.873255</td>\n",
              "      <td>0.430779</td>\n",
              "      <td>0.430779</td>\n",
              "    </tr>\n",
              "    <tr>\n",
              "      <th>min</th>\n",
              "      <td>3.800000</td>\n",
              "      <td>0.080000</td>\n",
              "      <td>0.000000</td>\n",
              "      <td>0.600000</td>\n",
              "      <td>0.009000</td>\n",
              "      <td>1.000000</td>\n",
              "      <td>6.000000</td>\n",
              "      <td>0.987110</td>\n",
              "      <td>2.720000</td>\n",
              "      <td>0.220000</td>\n",
              "      <td>8.000000</td>\n",
              "      <td>3.000000</td>\n",
              "      <td>0.000000</td>\n",
              "      <td>0.000000</td>\n",
              "    </tr>\n",
              "    <tr>\n",
              "      <th>25%</th>\n",
              "      <td>6.400000</td>\n",
              "      <td>0.230000</td>\n",
              "      <td>0.250000</td>\n",
              "      <td>1.800000</td>\n",
              "      <td>0.038000</td>\n",
              "      <td>17.000000</td>\n",
              "      <td>77.000000</td>\n",
              "      <td>0.992340</td>\n",
              "      <td>3.110000</td>\n",
              "      <td>0.430000</td>\n",
              "      <td>9.500000</td>\n",
              "      <td>5.000000</td>\n",
              "      <td>0.000000</td>\n",
              "      <td>1.000000</td>\n",
              "    </tr>\n",
              "    <tr>\n",
              "      <th>50%</th>\n",
              "      <td>7.000000</td>\n",
              "      <td>0.290000</td>\n",
              "      <td>0.310000</td>\n",
              "      <td>3.000000</td>\n",
              "      <td>0.047000</td>\n",
              "      <td>29.000000</td>\n",
              "      <td>118.000000</td>\n",
              "      <td>0.994890</td>\n",
              "      <td>3.210000</td>\n",
              "      <td>0.510000</td>\n",
              "      <td>10.300000</td>\n",
              "      <td>6.000000</td>\n",
              "      <td>0.000000</td>\n",
              "      <td>1.000000</td>\n",
              "    </tr>\n",
              "    <tr>\n",
              "      <th>75%</th>\n",
              "      <td>7.700000</td>\n",
              "      <td>0.400000</td>\n",
              "      <td>0.390000</td>\n",
              "      <td>8.100000</td>\n",
              "      <td>0.065000</td>\n",
              "      <td>41.000000</td>\n",
              "      <td>156.000000</td>\n",
              "      <td>0.996990</td>\n",
              "      <td>3.320000</td>\n",
              "      <td>0.600000</td>\n",
              "      <td>11.300000</td>\n",
              "      <td>6.000000</td>\n",
              "      <td>0.000000</td>\n",
              "      <td>1.000000</td>\n",
              "    </tr>\n",
              "    <tr>\n",
              "      <th>max</th>\n",
              "      <td>15.900000</td>\n",
              "      <td>1.580000</td>\n",
              "      <td>1.660000</td>\n",
              "      <td>65.800000</td>\n",
              "      <td>0.611000</td>\n",
              "      <td>289.000000</td>\n",
              "      <td>440.000000</td>\n",
              "      <td>1.038980</td>\n",
              "      <td>4.010000</td>\n",
              "      <td>2.000000</td>\n",
              "      <td>14.900000</td>\n",
              "      <td>9.000000</td>\n",
              "      <td>1.000000</td>\n",
              "      <td>1.000000</td>\n",
              "    </tr>\n",
              "  </tbody>\n",
              "</table>\n",
              "</div>\n",
              "      <button class=\"colab-df-convert\" onclick=\"convertToInteractive('df-2b3f179d-e385-4c08-ade3-b1ec2703e240')\"\n",
              "              title=\"Convert this dataframe to an interactive table.\"\n",
              "              style=\"display:none;\">\n",
              "        \n",
              "  <svg xmlns=\"http://www.w3.org/2000/svg\" height=\"24px\"viewBox=\"0 0 24 24\"\n",
              "       width=\"24px\">\n",
              "    <path d=\"M0 0h24v24H0V0z\" fill=\"none\"/>\n",
              "    <path d=\"M18.56 5.44l.94 2.06.94-2.06 2.06-.94-2.06-.94-.94-2.06-.94 2.06-2.06.94zm-11 1L8.5 8.5l.94-2.06 2.06-.94-2.06-.94L8.5 2.5l-.94 2.06-2.06.94zm10 10l.94 2.06.94-2.06 2.06-.94-2.06-.94-.94-2.06-.94 2.06-2.06.94z\"/><path d=\"M17.41 7.96l-1.37-1.37c-.4-.4-.92-.59-1.43-.59-.52 0-1.04.2-1.43.59L10.3 9.45l-7.72 7.72c-.78.78-.78 2.05 0 2.83L4 21.41c.39.39.9.59 1.41.59.51 0 1.02-.2 1.41-.59l7.78-7.78 2.81-2.81c.8-.78.8-2.07 0-2.86zM5.41 20L4 18.59l7.72-7.72 1.47 1.35L5.41 20z\"/>\n",
              "  </svg>\n",
              "      </button>\n",
              "      \n",
              "  <style>\n",
              "    .colab-df-container {\n",
              "      display:flex;\n",
              "      flex-wrap:wrap;\n",
              "      gap: 12px;\n",
              "    }\n",
              "\n",
              "    .colab-df-convert {\n",
              "      background-color: #E8F0FE;\n",
              "      border: none;\n",
              "      border-radius: 50%;\n",
              "      cursor: pointer;\n",
              "      display: none;\n",
              "      fill: #1967D2;\n",
              "      height: 32px;\n",
              "      padding: 0 0 0 0;\n",
              "      width: 32px;\n",
              "    }\n",
              "\n",
              "    .colab-df-convert:hover {\n",
              "      background-color: #E2EBFA;\n",
              "      box-shadow: 0px 1px 2px rgba(60, 64, 67, 0.3), 0px 1px 3px 1px rgba(60, 64, 67, 0.15);\n",
              "      fill: #174EA6;\n",
              "    }\n",
              "\n",
              "    [theme=dark] .colab-df-convert {\n",
              "      background-color: #3B4455;\n",
              "      fill: #D2E3FC;\n",
              "    }\n",
              "\n",
              "    [theme=dark] .colab-df-convert:hover {\n",
              "      background-color: #434B5C;\n",
              "      box-shadow: 0px 1px 3px 1px rgba(0, 0, 0, 0.15);\n",
              "      filter: drop-shadow(0px 1px 2px rgba(0, 0, 0, 0.3));\n",
              "      fill: #FFFFFF;\n",
              "    }\n",
              "  </style>\n",
              "\n",
              "      <script>\n",
              "        const buttonEl =\n",
              "          document.querySelector('#df-2b3f179d-e385-4c08-ade3-b1ec2703e240 button.colab-df-convert');\n",
              "        buttonEl.style.display =\n",
              "          google.colab.kernel.accessAllowed ? 'block' : 'none';\n",
              "\n",
              "        async function convertToInteractive(key) {\n",
              "          const element = document.querySelector('#df-2b3f179d-e385-4c08-ade3-b1ec2703e240');\n",
              "          const dataTable =\n",
              "            await google.colab.kernel.invokeFunction('convertToInteractive',\n",
              "                                                     [key], {});\n",
              "          if (!dataTable) return;\n",
              "\n",
              "          const docLinkHtml = 'Like what you see? Visit the ' +\n",
              "            '<a target=\"_blank\" href=https://colab.research.google.com/notebooks/data_table.ipynb>data table notebook</a>'\n",
              "            + ' to learn more about interactive tables.';\n",
              "          element.innerHTML = '';\n",
              "          dataTable['output_type'] = 'display_data';\n",
              "          await google.colab.output.renderOutput(dataTable, element);\n",
              "          const docLink = document.createElement('div');\n",
              "          docLink.innerHTML = docLinkHtml;\n",
              "          element.appendChild(docLink);\n",
              "        }\n",
              "      </script>\n",
              "    </div>\n",
              "  </div>\n",
              "  "
            ]
          },
          "metadata": {},
          "execution_count": 11
        }
      ]
    },
    {
      "cell_type": "code",
      "source": [
        "list(df)"
      ],
      "metadata": {
        "colab": {
          "base_uri": "https://localhost:8080/"
        },
        "id": "VHccRBWE1q4G",
        "outputId": "78685c22-3472-4429-acf7-4147c4267148"
      },
      "execution_count": null,
      "outputs": [
        {
          "output_type": "execute_result",
          "data": {
            "text/plain": [
              "['fixed acidity',\n",
              " 'volatile acidity',\n",
              " 'citric acid',\n",
              " 'residual sugar',\n",
              " 'chlorides',\n",
              " 'free sulfur dioxide',\n",
              " 'total sulfur dioxide',\n",
              " 'density',\n",
              " 'pH',\n",
              " 'sulphates',\n",
              " 'alcohol',\n",
              " 'quality',\n",
              " 'red',\n",
              " 'white']"
            ]
          },
          "metadata": {},
          "execution_count": 12
        }
      ]
    },
    {
      "cell_type": "code",
      "source": [
        "df[dep_var].value_counts()"
      ],
      "metadata": {
        "colab": {
          "base_uri": "https://localhost:8080/"
        },
        "id": "3JUGAfyM3gen",
        "outputId": "69cc9d57-6eec-4f17-c4a7-c8ac8e047afb"
      },
      "execution_count": null,
      "outputs": [
        {
          "output_type": "execute_result",
          "data": {
            "text/plain": [
              "quality\n",
              "6          2836\n",
              "5          2138\n",
              "7          1079\n",
              "4           216\n",
              "8           193\n",
              "3            30\n",
              "9             5\n",
              "dtype: int64"
            ]
          },
          "metadata": {},
          "execution_count": 13
        }
      ]
    },
    {
      "cell_type": "code",
      "source": [
        "df.loc[:, dep_var].hist(bins=10, figsize=(20,15))\n",
        "plt.show()"
      ],
      "metadata": {
        "colab": {
          "base_uri": "https://localhost:8080/",
          "height": 882
        },
        "id": "2UoIYCn_1TYj",
        "outputId": "08ad4b8c-5465-4d35-9813-7009123de2e5"
      },
      "execution_count": null,
      "outputs": [
        {
          "output_type": "display_data",
          "data": {
            "text/plain": [
              "<Figure size 1440x1080 with 1 Axes>"
            ],
            "image/png": "[encoded data removed]"
          },
          "metadata": {
            "needs_background": "light"
          }
        }
      ]
    },
    {
      "cell_type": "code",
      "source": [
        "df.loc[:, discrete_vars].hist(bins=10, figsize=(20,15))\n",
        "plt.show()"
      ],
      "metadata": {
        "colab": {
          "base_uri": "https://localhost:8080/",
          "height": 882
        },
        "id": "o3olJCjN3U0f",
        "outputId": "3463f820-232e-455a-e990-550e4f673507"
      },
      "execution_count": null,
      "outputs": [
        {
          "output_type": "display_data",
          "data": {
            "text/plain": [
              "<Figure size 1440x1080 with 4 Axes>"
            ],
            "image/png": "[encoded data removed]"
          },
          "metadata": {
            "needs_background": "light"
          }
        }
      ]
    },
    {
      "cell_type": "code",
      "source": [
        "# Add your code here\n",
        "for item in discrete_vars:\n",
        "  print(df[item].value_counts(bins=5))\n",
        "  print()"
      ],
      "metadata": {
        "colab": {
          "base_uri": "https://localhost:8080/"
        },
        "id": "Lb8GZrrl26Ko",
        "outputId": "4939a8cb-506c-49a9-8b42-3f34ea982f99"
      },
      "execution_count": null,
      "outputs": [
        {
          "output_type": "stream",
          "name": "stdout",
          "text": [
            "(0.711, 58.6]     6068\n",
            "(58.6, 116.2]      421\n",
            "(116.2, 173.8]       7\n",
            "(231.4, 289.0]       1\n",
            "(173.8, 231.4]       0\n",
            "Name: free sulfur dioxide, dtype: int64\n",
            "\n",
            "(92.8, 179.6]                 3563\n",
            "(5.5649999999999995, 92.8]    2067\n",
            "(179.6, 266.4]                 855\n",
            "(266.4, 353.2]                  10\n",
            "(353.2, 440.0]                   2\n",
            "Name: total sulfur dioxide, dtype: int64\n",
            "\n",
            "(-0.002, 0.2]    4898\n",
            "(0.8, 1.0]       1599\n",
            "(0.2, 0.4]          0\n",
            "(0.4, 0.6]          0\n",
            "(0.6, 0.8]          0\n",
            "Name: red, dtype: int64\n",
            "\n",
            "(0.8, 1.0]       4898\n",
            "(-0.002, 0.2]    1599\n",
            "(0.2, 0.4]          0\n",
            "(0.4, 0.6]          0\n",
            "(0.6, 0.8]          0\n",
            "Name: white, dtype: int64\n",
            "\n"
          ]
        }
      ]
    },
    {
      "cell_type": "code",
      "source": [
        "# Add your code here\n",
        "for item in continuous_vars:\n",
        "  print(df[item].value_counts(bins=5))\n",
        "  print()"
      ],
      "metadata": {
        "colab": {
          "base_uri": "https://localhost:8080/"
        },
        "id": "XIPR4Lkl2ss_",
        "outputId": "ba94ddc3-a8d9-4ea5-ee6f-8cb1a76b2c23"
      },
      "execution_count": null,
      "outputs": [
        {
          "output_type": "stream",
          "name": "stdout",
          "text": [
            "(6.22, 8.64]      4587\n",
            "(3.787, 6.22]     1214\n",
            "(8.64, 11.06]      559\n",
            "(11.06, 13.48]     123\n",
            "(13.48, 15.9]       14\n",
            "Name: fixed acidity, dtype: int64\n",
            "\n",
            "(0.0775, 0.38]    4680\n",
            "(0.38, 0.68]      1504\n",
            "(0.68, 0.98]       284\n",
            "(0.98, 1.28]        26\n",
            "(1.28, 1.58]         3\n",
            "Name: volatile acidity, dtype: int64\n",
            "\n",
            "(-0.00266, 0.332]    3879\n",
            "(0.332, 0.664]       2479\n",
            "(0.664, 0.996]        131\n",
            "(0.996, 1.328]          7\n",
            "(1.328, 1.66]           1\n",
            "Name: citric acid, dtype: int64\n",
            "\n",
            "(0.534, 13.64]    5947\n",
            "(13.64, 26.68]     547\n",
            "(26.68, 39.72]       2\n",
            "(52.76, 65.8]        1\n",
            "(39.72, 52.76]       0\n",
            "Name: residual sugar, dtype: int64\n",
            "\n",
            "(0.0073999999999999995, 0.129]    6340\n",
            "(0.129, 0.25]                      126\n",
            "(0.25, 0.37]                        17\n",
            "(0.37, 0.491]                       12\n",
            "(0.491, 0.611]                       2\n",
            "Name: chlorides, dtype: int64\n",
            "\n",
            "(0.986, 0.997]    5244\n",
            "(0.997, 1.008]    1250\n",
            "(1.008, 1.018]       2\n",
            "(1.029, 1.039]       1\n",
            "(1.018, 1.029]       0\n",
            "Name: density, dtype: int64\n",
            "\n",
            "(2.978, 3.236]    3344\n",
            "(3.236, 3.494]    2465\n",
            "(2.718, 2.978]     350\n",
            "(3.494, 3.752]     322\n",
            "(3.752, 4.01]       16\n",
            "Name: pH, dtype: int64\n",
            "\n",
            "(0.217, 0.576]    4474\n",
            "(0.576, 0.932]    1922\n",
            "(0.932, 1.288]      87\n",
            "(1.288, 1.644]      10\n",
            "(1.644, 2.0]         4\n",
            "Name: sulphates, dtype: int64\n",
            "\n",
            "(9.38, 10.76]     2818\n",
            "(10.76, 12.14]    1720\n",
            "(7.992, 9.38]     1173\n",
            "(12.14, 13.52]     744\n",
            "(13.52, 14.9]       42\n",
            "Name: alcohol, dtype: int64\n",
            "\n"
          ]
        }
      ]
    },
    {
      "cell_type": "code",
      "source": [
        "df.loc[:, discrete_vars].hist(bins=10, figsize=(20,15))\n",
        "plt.show()"
      ],
      "metadata": {
        "colab": {
          "base_uri": "https://localhost:8080/",
          "height": 882
        },
        "id": "lPNXE4CK3Lie",
        "outputId": "03c28641-9504-44e3-e642-c5e346460b4b"
      },
      "execution_count": null,
      "outputs": [
        {
          "output_type": "display_data",
          "data": {
            "text/plain": [
              "<Figure size 1440x1080 with 4 Axes>"
            ],
            "image/png": "[encoded data removed]"
          },
          "metadata": {
            "needs_background": "light"
          }
        }
      ]
    },
    {
      "cell_type": "markdown",
      "source": [
        "#Linear Regression"
      ],
      "metadata": {
        "id": "2zq-MyOi_mBP"
      }
    },
    {
      "cell_type": "code",
      "source": [
        "# Root Mean Squared Error\n",
        "def rmse(a, b):\n",
        "    return np.sqrt(np.mean((a-b)**2))\n",
        "pd.options.display.max_columns = None"
      ],
      "metadata": {
        "id": "H5COKfidwGV_"
      },
      "execution_count": null,
      "outputs": []
    },
    {
      "cell_type": "code",
      "source": [
        "def display_results(model, X, y):\n",
        "    #print(type(model))\n",
        "    print(\"RMSE:\", rmse(model.predict(X), y))\n",
        "    print(\"Predicted 1-5:\", model.predict(X_test[0:5]))\n",
        "    print(\"Actual 1-5:\", y_test[0:5, 0])\n",
        "    print(type(model))"
      ],
      "metadata": {
        "id": "3xDTw-lGv0Ia"
      },
      "execution_count": null,
      "outputs": []
    },
    {
      "cell_type": "code",
      "source": [
        "from sklearn.linear_model import LinearRegression\n",
        "\n",
        "lreg = LinearRegression()\n",
        "lreg.fit(X_train, np.ravel(y_train))\n",
        "pred_lreg = lreg.predict(X)\n",
        "display_results(lreg, X, y)"
      ],
      "metadata": {
        "colab": {
          "base_uri": "https://localhost:8080/"
        },
        "id": "4f0h2p2Nu_Jv",
        "outputId": "0459e7fc-c6a2-4a48-a97b-35da240b5111"
      },
      "execution_count": null,
      "outputs": [
        {
          "output_type": "stream",
          "name": "stdout",
          "text": [
            "RMSE: 0.9993358109790809\n",
            "Predicted 1-5: [5.92459687 5.28806662 5.57548258 5.76151772 5.9932289 ]\n",
            "Actual 1-5: [7 5 5 5 6]\n",
            "<class 'sklearn.linear_model._base.LinearRegression'>\n"
          ]
        }
      ]
    },
    {
      "cell_type": "code",
      "source": [
        "from sklearn.linear_model import ElasticNet\n",
        "\n",
        "enr = ElasticNet()\n",
        "enr.fit(X_train, np.ravel(y_train))\n",
        "pred_enr = enr.predict(X)\n",
        "display_results(enr, X, y)"
      ],
      "metadata": {
        "colab": {
          "base_uri": "https://localhost:8080/"
        },
        "id": "GwQeOfGCzKoC",
        "outputId": "1bcf8ea4-f964-48c0-937a-ecc0f32692d2"
      },
      "execution_count": null,
      "outputs": [
        {
          "output_type": "stream",
          "name": "stdout",
          "text": [
            "RMSE: 0.873189458526622\n",
            "Predicted 1-5: [5.81681739 5.81681739 5.81681739 5.81681739 5.81681739]\n",
            "Actual 1-5: [7 5 5 5 6]\n",
            "<class 'sklearn.linear_model._coordinate_descent.ElasticNet'>\n"
          ]
        }
      ]
    },
    {
      "cell_type": "code",
      "source": [
        "from sklearn.linear_model import SGDRegressor\n",
        "sgd = SGDRegressor(tol=1e-3)\n",
        "sgd.fit(X_train, np.ravel(y_train))\n",
        "pred_sgd = sgd.predict(X)\n",
        "display_results(sgd, X, y)"
      ],
      "metadata": {
        "colab": {
          "base_uri": "https://localhost:8080/"
        },
        "id": "6qPsszRzzMk5",
        "outputId": "ac6daf0f-d5b2-4909-a533-b4a03e9feade"
      },
      "execution_count": null,
      "outputs": [
        {
          "output_type": "stream",
          "name": "stdout",
          "text": [
            "RMSE: 0.9662276777672173\n",
            "Predicted 1-5: [5.84523394 5.25551808 5.89293026 5.74916509 5.93123234]\n",
            "Actual 1-5: [7 5 5 5 6]\n",
            "<class 'sklearn.linear_model._stochastic_gradient.SGDRegressor'>\n"
          ]
        }
      ]
    },
    {
      "cell_type": "code",
      "source": [
        "from sklearn.tree import DecisionTreeRegressor\n",
        "dtr = DecisionTreeRegressor()\n",
        "dtr.fit(X_train, np.ravel(y_train))\n",
        "pred_dtr = dtr.predict(X)\n",
        "display_results(dtr, X, y)"
      ],
      "metadata": {
        "id": "IJSzEt3HzdIR",
        "outputId": "a04045b7-bb63-46f2-b230-dab0de980f15",
        "colab": {
          "base_uri": "https://localhost:8080/"
        }
      },
      "execution_count": null,
      "outputs": [
        {
          "output_type": "stream",
          "name": "stdout",
          "text": [
            "RMSE: 1.2393021714824635\n",
            "Predicted 1-5: [5. 6. 5. 5. 5.]\n",
            "Actual 1-5: [7 5 5 5 6]\n",
            "<class 'sklearn.tree._classes.DecisionTreeRegressor'>\n"
          ]
        }
      ]
    },
    {
      "cell_type": "code",
      "source": [
        "from sklearn.ensemble import RandomForestRegressor\n",
        "\n",
        "rfr = RandomForestRegressor(random_state=1, max_depth=10)\n",
        "\n",
        "rfr.fit(X_train, y_train)\n",
        "\n",
        "rfr_fi = rfr.feature_importances_\n",
        "rfr_ind = np.argsort(rfr_fi)[-9:]\n",
        "\n",
        "plt.title('Feature Importance')\n",
        "plt.barh(range(len(rfr_ind)), rfr_fi[rfr_ind], color='g', align='center')\n",
        "plt.yticks(range(len(rfr_ind)), [list(X2)[i] for i in rfr_ind])\n",
        "plt.xlabel('Relative Importance')"
      ],
      "metadata": {
        "colab": {
          "base_uri": "https://localhost:8080/",
          "height": 374
        },
        "id": "PEezudsqqBye",
        "outputId": "ee4d50f5-ff37-48f5-eb4f-6639a8f83625"
      },
      "execution_count": null,
      "outputs": [
        {
          "output_type": "stream",
          "name": "stderr",
          "text": [
            "<ipython-input-25-55a5cc7977bc>:5: DataConversionWarning: A column-vector y was passed when a 1d array was expected. Please change the shape of y to (n_samples,), for example using ravel().\n",
            "  rfr.fit(X_train, y_train)\n"
          ]
        },
        {
          "output_type": "execute_result",
          "data": {
            "text/plain": [
              "Text(0.5, 0, 'Relative Importance')"
            ]
          },
          "metadata": {},
          "execution_count": 25
        },
        {
          "output_type": "display_data",
          "data": {
            "text/plain": [
              "<Figure size 432x288 with 1 Axes>"
            ],
            "image/png": "[encoded data removed]"
          },
          "metadata": {
            "needs_background": "light"
          }
        }
      ]
    },
    {
      "cell_type": "code",
      "source": [
        "from sklearn.metrics import mean_squared_error, r2_score"
      ],
      "metadata": {
        "id": "6YCh_73aqwl9"
      },
      "execution_count": null,
      "outputs": []
    },
    {
      "cell_type": "code",
      "source": [
        "def display_scores(model, X, X_train, X_test, y, y_train, y_test):\n",
        "    print(\"RMSE Train:\", mean_squared_error(y_train, model.predict(X_train)))\n",
        "    print(\"RMSE Test:\", mean_squared_error(y_test, model.predict(X_test)))\n",
        "    print(\"RMSE X:\", mean_squared_error(y, model.predict(X)))\n",
        "    print(\"R2 Train:\", r2_score(y_train, model.predict(X_train)))\n",
        "    print(\"R2 Test:\", r2_score(y_test, model.predict(X_test)))\n",
        "    print(\"R2 X:\", r2_score(y, model.predict(X)))\n",
        "    print(type(model))"
      ],
      "metadata": {
        "id": "PmgFyxl6tq6t"
      },
      "execution_count": null,
      "outputs": []
    },
    {
      "cell_type": "code",
      "source": [
        "# Below is a better list of all the RMSE scores (including Voting Regression)\n",
        "display_scores(lreg, X, X_train, X_test, y, y_train, y_test)\n",
        "display_scores(enr, X, X_train, X_test, y, y_train, y_test)\n",
        "display_scores(sgd, X, X_train, X_test, y, y_train, y_test)\n",
        "display_scores(dtr, X, X_train, X_test, y, y_train, y_test)\n",
        "display_scores(rfr, X, X_train, X_test, y, y_train, y_test)"
      ],
      "metadata": {
        "colab": {
          "base_uri": "https://localhost:8080/"
        },
        "id": "6PNeKOpLusJz",
        "outputId": "cb1a53a2-0077-474a-d771-02c940898b66"
      },
      "execution_count": null,
      "outputs": [
        {
          "output_type": "stream",
          "name": "stdout",
          "text": [
            "RMSE Train: 0.5392141728820197\n",
            "RMSE Test: 0.5282813337318182\n",
            "RMSE X: 0.5370265954008342\n",
            "R2 Train: 0.30422857591774644\n",
            "R2 Test: 0.25836219654268355\n",
            "R2 X: 0.29566347143309635\n",
            "<class 'sklearn.linear_model._base.LinearRegression'>\n",
            "RMSE Train: 0.7749875235150132\n",
            "RMSE Test: 0.712377968410802\n",
            "RMSE X: 0.7624598304820019\n",
            "R2 Train: 0.0\n",
            "R2 Test: -8.536737695430396e-05\n",
            "R2 X: -3.1930868666929513e-06\n",
            "<class 'sklearn.linear_model._coordinate_descent.ElasticNet'>\n",
            "RMSE Train: 0.5846504904968398\n",
            "RMSE Test: 0.5511794266136926\n",
            "RMSE X: 0.5779531866568997\n",
            "R2 Train: 0.24560012547671184\n",
            "R2 Test: 0.22621627310391235\n",
            "R2 X: 0.24198625421844788\n",
            "<class 'sklearn.linear_model._stochastic_gradient.SGDRegressor'>\n",
            "RMSE Train: 0.0\n",
            "RMSE Test: 0.71\n",
            "RMSE X: 0.14206556872402648\n",
            "R2 Train: 1.0\n",
            "R2 Test: 0.003252988828857384\n",
            "R2 X: 0.8136740892147476\n",
            "<class 'sklearn.tree._classes.DecisionTreeRegressor'>\n",
            "RMSE Train: 0.22223651892294383\n",
            "RMSE Test: 0.4047853945637789\n",
            "RMSE X: 0.25876315249737597\n",
            "R2 Train: 0.7132385849065368\n",
            "R2 Test: 0.4317343208490446\n",
            "R2 X: 0.6606195259007707\n",
            "<class 'sklearn.ensemble._forest.RandomForestRegressor'>\n"
          ]
        }
      ]
    },
    {
      "cell_type": "code",
      "source": [
        "from sklearn.ensemble import VotingRegressor"
      ],
      "metadata": {
        "id": "HU7SMFK9qDZL"
      },
      "execution_count": null,
      "outputs": []
    },
    {
      "cell_type": "code",
      "source": [
        "vreg = VotingRegressor([(\"lreg\", lreg), (\"enr\", enr), (\"sgd\", sgd), (\"dtr\", dtr), (\"rfr\", rfr)])\n",
        "vreg.fit(X_train, y_train)"
      ],
      "metadata": {
        "colab": {
          "base_uri": "https://localhost:8080/"
        },
        "id": "ckEyY8dcqTfc",
        "outputId": "06fe592b-d6cb-4fa4-af5e-5902e56899e5"
      },
      "execution_count": null,
      "outputs": [
        {
          "output_type": "stream",
          "name": "stderr",
          "text": [
            "/usr/local/lib/python3.8/dist-packages/sklearn/ensemble/_voting.py:528: DataConversionWarning: A column-vector y was passed when a 1d array was expected. Please change the shape of y to (n_samples, ), for example using ravel().\n",
            "  y = column_or_1d(y, warn=True)\n"
          ]
        },
        {
          "output_type": "execute_result",
          "data": {
            "text/plain": [
              "VotingRegressor(estimators=[('lreg', LinearRegression()), ('enr', ElasticNet()),\n",
              "                            ('sgd', SGDRegressor()),\n",
              "                            ('dtr', DecisionTreeRegressor()),\n",
              "                            ('rfr',\n",
              "                             RandomForestRegressor(max_depth=10,\n",
              "                                                   random_state=1))])"
            ]
          },
          "metadata": {},
          "execution_count": 30
        }
      ]
    },
    {
      "cell_type": "code",
      "source": [
        "display_scores(vreg, X, X_train, X_test, y, y_train, y_test)"
      ],
      "metadata": {
        "colab": {
          "base_uri": "https://localhost:8080/"
        },
        "id": "_NNnp0TuuTk3",
        "outputId": "c09a9690-38bf-43ce-c460-2e34b150c001"
      },
      "execution_count": null,
      "outputs": [
        {
          "output_type": "stream",
          "name": "stdout",
          "text": [
            "RMSE Train: 0.29460514896805057\n",
            "RMSE Test: 0.44277557554465674\n",
            "RMSE X: 0.3242529178690184\n",
            "R2 Train: 0.6198582041271489\n",
            "R2 Test: 0.37840108233279013\n",
            "R2 X: 0.5747265098126293\n",
            "<class 'sklearn.ensemble._voting.VotingRegressor'>\n"
          ]
        }
      ]
    },
    {
      "cell_type": "code",
      "source": [
        "class Format:\n",
        "    end = '\\033[0m'\n",
        "    underline = '\\033[4m'\n",
        "\n",
        "print(Format.underline + 'RMSE Values by Model' + Format.end)"
      ],
      "metadata": {
        "colab": {
          "base_uri": "https://localhost:8080/"
        },
        "id": "HG9HibfMwYL_",
        "outputId": "cd4edcf4-ca85-4482-c10a-80a4277cf571"
      },
      "execution_count": null,
      "outputs": [
        {
          "output_type": "stream",
          "name": "stdout",
          "text": [
            "\u001b[4mRMSE Values by Model\u001b[0m\n"
          ]
        }
      ]
    },
    {
      "cell_type": "code",
      "source": [
        "print('\\033[4m' + 'RMSE Values by Model' + '\\033[0m')\n",
        "print(\"Linear Regression:\", round(mean_squared_error(y, lreg.predict(X)),3))\n",
        "print(\"Elastic Net:\", round(mean_squared_error(y, enr.predict(X)),3))\n",
        "print(\"SGD Regressor:\", round(mean_squared_error(y, sgd.predict(X)),3))\n",
        "print(\"Decision Tree Regression:\", round(mean_squared_error(y, dtr.predict(X)),3))\n",
        "print(\"Random Forest Regression:\", round(mean_squared_error(y, rfr.predict(X)),3))\n",
        "print(\"Voting Regression:\", round(mean_squared_error(y, vreg.predict(X)),3))\n"
      ],
      "metadata": {
        "colab": {
          "base_uri": "https://localhost:8080/"
        },
        "id": "Qa18uc38umU_",
        "outputId": "01352077-8393-48b8-892f-aa79774dc804"
      },
      "execution_count": null,
      "outputs": [
        {
          "output_type": "stream",
          "name": "stdout",
          "text": [
            "\u001b[4mRMSE Values by Model\u001b[0m\n",
            "Linear Regression: 0.537\n",
            "Elastic Net: 0.762\n",
            "SGD Regressor: 0.578\n",
            "Decision Tree Regression: 0.142\n",
            "Random Forest Regression: 0.259\n",
            "Voting Regression: 0.324\n"
          ]
        }
      ]
    },
    {
      "cell_type": "code",
      "source": [
        "print('\\033[4m' + 'RMSE Values by Model using the Training Dataset' + '\\033[0m')\n",
        "print(\"Linear Regression:\", round(mean_squared_error(y_train, lreg.predict(X_train)),3))\n",
        "print(\"Elastic Net:\", round(mean_squared_error(y_train, enr.predict(X_train)),3))\n",
        "print(\"SGD Regressor:\", round(mean_squared_error(y_train, sgd.predict(X_train)),3))\n",
        "print(\"Decision Tree Regression:\", round(mean_squared_error(y_train, dtr.predict(X_train)),3))\n",
        "print(\"Random Forest Regression:\", round(mean_squared_error(y_train, rfr.predict(X_train)),3))\n",
        "print(\"Voting Regression:\", round(mean_squared_error(y_train, vreg.predict(X_train)),3))"
      ],
      "metadata": {
        "colab": {
          "base_uri": "https://localhost:8080/"
        },
        "id": "W5kBzQv5BWTr",
        "outputId": "7228e2ee-0be7-4287-bb7e-ce35e1e16165"
      },
      "execution_count": null,
      "outputs": [
        {
          "output_type": "stream",
          "name": "stdout",
          "text": [
            "\u001b[4mRMSE Values by Model using the Training Dataset\u001b[0m\n",
            "Linear Regression: 0.539\n",
            "Elastic Net: 0.775\n",
            "SGD Regressor: 0.585\n",
            "Decision Tree Regression: 0.0\n",
            "Random Forest Regression: 0.222\n",
            "Voting Regression: 0.295\n"
          ]
        }
      ]
    },
    {
      "cell_type": "code",
      "source": [
        "print('\\033[4m' + 'RMSE Values by Model using the Test Dataset' + '\\033[0m')\n",
        "print(\"Linear Regression:\", round(mean_squared_error(y_test, lreg.predict(X_test)),3))\n",
        "print(\"Elastic Net:\", round(mean_squared_error(y_test, enr.predict(X_test)),3))\n",
        "print(\"SGD Regressor:\", round(mean_squared_error(y_test, sgd.predict(X_test)),3))\n",
        "print(\"Decision Tree Regression:\", round(mean_squared_error(y_test, dtr.predict(X_test)),3))\n",
        "print(\"Random Forest Regression:\", round(mean_squared_error(y_test, rfr.predict(X_test)),3))\n",
        "print(\"Voting Regression:\", round(mean_squared_error(y_test, vreg.predict(X_test)),3))"
      ],
      "metadata": {
        "colab": {
          "base_uri": "https://localhost:8080/"
        },
        "id": "ozaavyO3Oa0V",
        "outputId": "b10f5f91-cc25-4683-b945-874d20debae8"
      },
      "execution_count": null,
      "outputs": [
        {
          "output_type": "stream",
          "name": "stdout",
          "text": [
            "\u001b[4mRMSE Values by Model using the Test Dataset\u001b[0m\n",
            "Linear Regression: 0.528\n",
            "Elastic Net: 0.712\n",
            "SGD Regressor: 0.551\n",
            "Decision Tree Regression: 0.71\n",
            "Random Forest Regression: 0.405\n",
            "Voting Regression: 0.443\n"
          ]
        }
      ]
    },
    {
      "cell_type": "code",
      "source": [
        "xs = X[:20]\n",
        "ys = y[:20]\n",
        "\n",
        "pred1 = lreg.predict(xs)\n",
        "pred2 = enr.predict(xs)\n",
        "pred3 = sgd.predict(xs)\n",
        "pred4 = dtr.predict(xs)\n",
        "pred5 = rfr.predict(xs)\n",
        "pred6 = vreg.predict(xs)"
      ],
      "metadata": {
        "id": "SRN8DW_jsU6q"
      },
      "execution_count": null,
      "outputs": []
    },
    {
      "cell_type": "code",
      "source": [
        "# A visualization of how the models of performing compared to the first 20 rows of data\n",
        "plt.figure()\n",
        "plt.plot(pred1, \"m.\", label=\"LinearRegression\")\n",
        "plt.plot(pred2, \"ro\", label=\"ElasticNet\")\n",
        "plt.plot(pred3, \"gs\", label=\"SGDRegressor\")\n",
        "plt.plot(pred4, \"cv\", label=\"DecisionTreeRegressor\")\n",
        "plt.plot(pred5, \"b^\", label=\"RandomForestRegressor\")\n",
        "plt.plot(pred6, \"y*\", ms=10, label=\"VotingRegressor\")\n",
        "plt.plot(ys, \"k+\", label=\"Actual\")\n",
        "\n",
        "plt.tick_params(axis=\"x\", which=\"both\", bottom=False, top=False, labelbottom=False)\n",
        "plt.ylabel(\"value\")\n",
        "plt.xlabel(\"training samples\")\n",
        "#plt.legend(loc=\"best\")\n",
        "# Put a legend to the right of the current axis\n",
        "plt.legend(loc='center left', bbox_to_anchor=(1, 0.5))\n",
        "plt.title(\"Regressor Values compared to Actual\")\n",
        "\n",
        "plt.show()"
      ],
      "metadata": {
        "colab": {
          "base_uri": "https://localhost:8080/",
          "height": 282
        },
        "id": "X50f19ZZqYUg",
        "outputId": "2d82ccf8-6554-4ca0-a3a8-decbb48a03f2"
      },
      "execution_count": null,
      "outputs": [
        {
          "output_type": "display_data",
          "data": {
            "text/plain": [
              "<Figure size 432x288 with 1 Axes>"
            ],
            "image/png": "[encoded data removed]"
          },
          "metadata": {
            "needs_background": "light"
          }
        }
      ]
    },
    {
      "cell_type": "code",
      "source": [
        "vreg2 = VotingRegressor([(\"lreg\", lreg), (\"sgd\", sgd)])\n",
        "vreg2.fit(X_train, y_train)"
      ],
      "metadata": {
        "colab": {
          "base_uri": "https://localhost:8080/"
        },
        "id": "O7cVt5qlfrX5",
        "outputId": "b135083a-1373-4cdd-c694-6672dcb8fe1f"
      },
      "execution_count": null,
      "outputs": [
        {
          "output_type": "stream",
          "name": "stderr",
          "text": [
            "/usr/local/lib/python3.8/dist-packages/sklearn/ensemble/_voting.py:528: DataConversionWarning: A column-vector y was passed when a 1d array was expected. Please change the shape of y to (n_samples, ), for example using ravel().\n",
            "  y = column_or_1d(y, warn=True)\n"
          ]
        },
        {
          "output_type": "execute_result",
          "data": {
            "text/plain": [
              "VotingRegressor(estimators=[('lreg', LinearRegression()),\n",
              "                            ('sgd', SGDRegressor())])"
            ]
          },
          "metadata": {},
          "execution_count": 38
        }
      ]
    },
    {
      "cell_type": "code",
      "source": [
        "print('\\033[4m' + 'RMSE Values for Voting Regression (Linear, SGD) by Dataset' + '\\033[0m')\n",
        "print(\"Whole Dataset:\", round(mean_squared_error(y, vreg2.predict(X)),3))\n",
        "print(\"Training Dataset:\", round(mean_squared_error(y_train, vreg2.predict(X_train)),3))\n",
        "print(\"Test Dataset:\", round(mean_squared_error(y_test, vreg2.predict(X_test)),3))"
      ],
      "metadata": {
        "colab": {
          "base_uri": "https://localhost:8080/"
        },
        "id": "o7kKZo_Jf3qg",
        "outputId": "ca1684d4-a0ba-4a19-948e-1faa33859264"
      },
      "execution_count": null,
      "outputs": [
        {
          "output_type": "stream",
          "name": "stdout",
          "text": [
            "\u001b[4mRMSE Values for Voting Regression (Linear, SGD) by Dataset\u001b[0m\n",
            "Whole Dataset: 0.547\n",
            "Training Dataset: 0.552\n",
            "Test Dataset: 0.527\n"
          ]
        }
      ]
    },
    {
      "cell_type": "code",
      "source": [
        "pred7 = vreg2.predict(xs)"
      ],
      "metadata": {
        "id": "ZpSbd8MlgpCw"
      },
      "execution_count": null,
      "outputs": []
    },
    {
      "cell_type": "code",
      "source": [
        "#Including the Voting Regressor that only includes Linear Regression and SGDRegressor\n",
        "plt.figure()\n",
        "plt.plot(pred1, \"r.\", label=\"LinearRegression\")\n",
        "plt.plot(pred3, \"b.\", label=\"SGDRegressor\")\n",
        "plt.plot(pred7, \"m.\", label=\"VotingRegressor (Linear, SGD)\")\n",
        "plt.plot(ys, \"k+\", label=\"Actual\")\n",
        "\n",
        "plt.tick_params(axis=\"x\", which=\"both\", bottom=False, top=False, labelbottom=False)\n",
        "plt.ylabel(\"value\")\n",
        "plt.xlabel(\"training samples\")\n",
        "#plt.legend(loc=\"best\")\n",
        "# Put a legend to the right of the current axis\n",
        "plt.legend(loc='center left', bbox_to_anchor=(1, 0.5))\n",
        "plt.title(\"Regressor Values compared to Actual\")\n",
        "\n",
        "plt.show()"
      ],
      "metadata": {
        "colab": {
          "base_uri": "https://localhost:8080/",
          "height": 282
        },
        "id": "B3sGFaKqD1fR",
        "outputId": "0b87d2c8-6913-4107-c52a-609ecfbf3d7c"
      },
      "execution_count": null,
      "outputs": [
        {
          "output_type": "display_data",
          "data": {
            "text/plain": [
              "<Figure size 432x288 with 1 Axes>"
            ],
            "image/png": "[encoded data removed]"
          },
          "metadata": {
            "needs_background": "light"
          }
        }
      ]
    }
  ]
}